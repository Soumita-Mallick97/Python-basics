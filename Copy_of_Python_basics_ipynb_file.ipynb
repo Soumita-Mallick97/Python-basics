{
  "nbformat": 4,
  "nbformat_minor": 0,
  "metadata": {
    "colab": {
      "provenance": []
    },
    "kernelspec": {
      "name": "python3",
      "display_name": "Python 3"
    },
    "language_info": {
      "name": "python"
    }
  },
  "cells": [
    {
      "cell_type": "markdown",
      "source": [
        "1. what is puthon, and why is it popular?\n",
        "   - Python is a programming language that is easy to write and understand.\n",
        "   It is very popular amog developers and researchers because it has an extensive standard libraries and third-party packages for various domain.\n",
        "\n",
        "2. What is an interpreter in Python?\n",
        "   - A python interpreter is a program that processes and executes python code. It converts high-level program statement into machine code.\n",
        "\n",
        "3. What are pre-defined keywords in python?\n",
        "   - Keywords in python are predefined or reserved words that have a special meaning and they are very case-sensitive, they can be overridden within python program.\n",
        "   ex- true, false, print,for, while etc.\n",
        "\n",
        "4. can keywords be used as variable names?\n",
        "  - no, we cannot used keywords as variable names. Because variables are symbolic names that refer to objects or value stored in computer's memory. and they are essential to build blocks in python program. But keywoords are reserved words that have special meaning and they cannot be overridden.\n",
        "5. what is mutability in python?\n",
        "   - In python, those objects are changeable or modified after creation, they called as mutable objects.\n",
        "   ex- lists etc.\n",
        "\n",
        "6. Why are lists mutable , but tuples are immutable?\n",
        "   - lists can be modified after creation but tuples cannot. that's why lists are mutable, tuples are not.\n",
        "\n",
        "7. What are the difference between '==' and 'is' operators in python?\n",
        "   - The 'is' operators is identity operators. It is used to check the different objects are identified same object in memory or not. but '==' is comparison operators that compared the value of different objects.\n",
        "\n",
        "8. What are logical operators in python?\n",
        "   - A logical operator in python that performs logical calculation on two or more values and produces a result based on truth value of the input. ex- AND, OR etc.\n",
        "\n",
        "9. What is type casting in python?\n",
        "  - Type casting also referred as type convesion, that is used to convert from one data type to another.\n",
        "\n",
        "10. What is difference between implicit and explicit type casting?\n",
        "   - Explicit type casting is performed by the user by using type connversion functios in the program code.but implicit type casting performed by python interpreter.\n",
        "\n",
        "11. What is the purpose conditional statements in python?\n",
        "   - The purpose of coditional statement is to execute a specific task depends on various conditions.\n",
        "\n",
        "12. How does elif statement work?\n",
        "   - The keyword 'elif' referred as 'else if' in python. It is used is connditional statement when more than one conditions are given.\n",
        "\n",
        "13. What is the difference between for loop and while loop?\n",
        "    - For loop is used to itirate over a sequence of items. but while loop is used to execute repeatedly a block of statements while condition is true.\n",
        "\n",
        "14. Describe a scenario where a while loop is more suitable than a for loop.\n"
      ],
      "metadata": {
        "id": "0keizMdsHEEf"
      }
    },
    {
      "cell_type": "markdown",
      "source": [
        " PRACTICAL QUESTIONS:"
      ],
      "metadata": {
        "id": "gw6PBljtQXja"
      }
    },
    {
      "cell_type": "code",
      "source": [
        "#1.Q.write a python programe to print 'hello world'\n",
        "a=\"hello world\"\n",
        "print(a)"
      ],
      "metadata": {
        "colab": {
          "base_uri": "https://localhost:8080/"
        },
        "id": "-jwpU8oFQTwa",
        "outputId": "d325816a-4aae-4883-adea-6799e57ae2e2"
      },
      "execution_count": null,
      "outputs": [
        {
          "output_type": "stream",
          "name": "stdout",
          "text": [
            "hello world\n"
          ]
        }
      ]
    },
    {
      "cell_type": "code",
      "execution_count": null,
      "metadata": {
        "id": "eDFU_4GzGqD9",
        "colab": {
          "base_uri": "https://localhost:8080/"
        },
        "outputId": "bac4cacb-ee63-4c66-925a-4774c6fc12ed"
      },
      "outputs": [
        {
          "output_type": "stream",
          "name": "stdout",
          "text": [
            "enter my name: Soumita Mallick\n",
            "enter your age : 27\n",
            "name:Soumita Mallick, age : 27\n"
          ]
        }
      ],
      "source": [
        "#2.Q.write a python program that displays your name and age.\n",
        "name= input(\"enter my name: \")\n",
        "age = int(input(\"enter your age : \"))\n",
        "print(f\"name:{name}, age : {age}\")"
      ]
    },
    {
      "cell_type": "code",
      "source": [
        "# 3.Q. Write code to print all the pre-defied keywords in python using the keyword library.\n",
        "#'and' keyword\n",
        "10 and 10"
      ],
      "metadata": {
        "colab": {
          "base_uri": "https://localhost:8080/"
        },
        "id": "KSxAYmyHdzdx",
        "outputId": "04190267-c86b-40d5-cf62-a04f9490efc7"
      },
      "execution_count": null,
      "outputs": [
        {
          "output_type": "execute_result",
          "data": {
            "text/plain": [
              "10"
            ]
          },
          "metadata": {},
          "execution_count": 2
        }
      ]
    },
    {
      "cell_type": "code",
      "source": [
        "#'or' keyword\n",
        "3|5"
      ],
      "metadata": {
        "colab": {
          "base_uri": "https://localhost:8080/"
        },
        "id": "-SzgIR4CfDgy",
        "outputId": "b3cc9c9a-deed-420d-a026-c905ab9a726b"
      },
      "execution_count": null,
      "outputs": [
        {
          "output_type": "execute_result",
          "data": {
            "text/plain": [
              "7"
            ]
          },
          "metadata": {},
          "execution_count": 3
        }
      ]
    },
    {
      "cell_type": "code",
      "source": [
        "# 'if' and 'else'keyword\n",
        "a=5\n",
        "if a>10:\n",
        "  print(\"a is greater than 10\")\n",
        "else:\n",
        "  print(\"a is less than 10\")"
      ],
      "metadata": {
        "colab": {
          "base_uri": "https://localhost:8080/"
        },
        "id": "OP_6dVWBfPyV",
        "outputId": "8f0bd548-a708-4a61-9c54-2464ebdd9ab7"
      },
      "execution_count": null,
      "outputs": [
        {
          "output_type": "stream",
          "name": "stdout",
          "text": [
            "a is less than 10\n"
          ]
        }
      ]
    },
    {
      "cell_type": "code",
      "source": [
        "# 4.Q. Write a program that checks if a given word is a python keyword.\n",
        "a=10\n",
        "if a>10:  #here 'if','elif','else' are keywords in python.\n",
        "  print(\"a is greater than 10\")\n",
        "elif a==10:\n",
        "  print(\"a is equal to 10\")\n",
        "else:\n",
        "  print (\"a is less than 10\")"
      ],
      "metadata": {
        "colab": {
          "base_uri": "https://localhost:8080/"
        },
        "id": "av3-2U7zgXil",
        "outputId": "01462bd4-760f-4c41-fc9c-463430fab705"
      },
      "execution_count": null,
      "outputs": [
        {
          "output_type": "stream",
          "name": "stdout",
          "text": [
            "a is equal to 10\n"
          ]
        }
      ]
    },
    {
      "cell_type": "code",
      "source": [
        "#5.Q. Create a list and tuple in python, and demonstrate how attempting to change an element works differently for each.\n",
        "\n",
        "list=[1,2,3,'s',2.3,3+7j]   #here I change the first element in the list..\n",
        "list[0]=\"Soumita\"\n",
        "list"
      ],
      "metadata": {
        "colab": {
          "base_uri": "https://localhost:8080/"
        },
        "id": "WczGFLRZjKX5",
        "outputId": "c8215456-7349-4740-96ed-65f1b819b0b6"
      },
      "execution_count": null,
      "outputs": [
        {
          "output_type": "execute_result",
          "data": {
            "text/plain": [
              "['Soumita', 2, 3, 's', 2.3, (3+7j)]"
            ]
          },
          "metadata": {},
          "execution_count": 9
        }
      ]
    },
    {
      "cell_type": "code",
      "source": [
        "t=(1,2,3,'s',2.3,(3+7j))  #here I create a tuple and the elements does not change in tuple.\n",
        "t[0]=\"soumita\""
      ],
      "metadata": {
        "colab": {
          "base_uri": "https://localhost:8080/",
          "height": 158
        },
        "id": "7w0oP4hojKT5",
        "outputId": "965b933a-d835-40cc-dc4a-0ec666721dba"
      },
      "execution_count": null,
      "outputs": [
        {
          "output_type": "error",
          "ename": "TypeError",
          "evalue": "'tuple' object does not support item assignment",
          "traceback": [
            "\u001b[0;31m---------------------------------------------------------------------------\u001b[0m",
            "\u001b[0;31mTypeError\u001b[0m                                 Traceback (most recent call last)",
            "\u001b[0;32m<ipython-input-12-79986642>\u001b[0m in \u001b[0;36m<cell line: 0>\u001b[0;34m()\u001b[0m\n\u001b[1;32m      1\u001b[0m \u001b[0mt\u001b[0m\u001b[0;34m=\u001b[0m\u001b[0;34m(\u001b[0m\u001b[0;36m1\u001b[0m\u001b[0;34m,\u001b[0m\u001b[0;36m2\u001b[0m\u001b[0;34m,\u001b[0m\u001b[0;36m3\u001b[0m\u001b[0;34m,\u001b[0m\u001b[0;34m's'\u001b[0m\u001b[0;34m,\u001b[0m\u001b[0;36m2.3\u001b[0m\u001b[0;34m,\u001b[0m\u001b[0;34m(\u001b[0m\u001b[0;36m3\u001b[0m\u001b[0;34m+\u001b[0m\u001b[0;36m7j\u001b[0m\u001b[0;34m)\u001b[0m\u001b[0;34m)\u001b[0m\u001b[0;34m\u001b[0m\u001b[0;34m\u001b[0m\u001b[0m\n\u001b[0;32m----> 2\u001b[0;31m \u001b[0mt\u001b[0m\u001b[0;34m[\u001b[0m\u001b[0;36m0\u001b[0m\u001b[0;34m]\u001b[0m\u001b[0;34m=\u001b[0m\u001b[0;34m\"soumita\"\u001b[0m\u001b[0;34m\u001b[0m\u001b[0;34m\u001b[0m\u001b[0m\n\u001b[0m",
            "\u001b[0;31mTypeError\u001b[0m: 'tuple' object does not support item assignment"
          ]
        }
      ]
    },
    {
      "cell_type": "code",
      "source": [
        "#6.Q.Write a function to demonstrate the behavior of mutable and immutable object.\n",
        "list=['i','am','a','good','student']\n",
        "type(list)"
      ],
      "metadata": {
        "colab": {
          "base_uri": "https://localhost:8080/"
        },
        "id": "zhTssfIEqark",
        "outputId": "ce7f0739-f560-4f62-98e6-2b781063fb8d"
      },
      "execution_count": null,
      "outputs": [
        {
          "output_type": "execute_result",
          "data": {
            "text/plain": [
              "list"
            ]
          },
          "metadata": {},
          "execution_count": 33
        }
      ]
    },
    {
      "cell_type": "code",
      "source": [
        "list[1]='was'  #first index element assigned in lists, lists are mutable object.\n",
        "list"
      ],
      "metadata": {
        "colab": {
          "base_uri": "https://localhost:8080/"
        },
        "id": "zSLn9KcVre38",
        "outputId": "e534907f-a176-4a1e-f980-57843d61126b"
      },
      "execution_count": null,
      "outputs": [
        {
          "output_type": "execute_result",
          "data": {
            "text/plain": [
              "['i', 'was', 'a', 'good', 'student']"
            ]
          },
          "metadata": {},
          "execution_count": 35
        }
      ]
    },
    {
      "cell_type": "code",
      "source": [
        "tuple=('i','am','a','good','student')\n",
        "type(tuple)"
      ],
      "metadata": {
        "colab": {
          "base_uri": "https://localhost:8080/"
        },
        "id": "PDAkmef9r6Ct",
        "outputId": "691040ca-eb2e-4823-c9f8-a85e20590730"
      },
      "execution_count": null,
      "outputs": [
        {
          "output_type": "execute_result",
          "data": {
            "text/plain": [
              "tuple"
            ]
          },
          "metadata": {},
          "execution_count": 36
        }
      ]
    },
    {
      "cell_type": "code",
      "source": [
        "tuple[1]='was'   #the first index element does not change in tuple, so tuple is a immutable object.\n",
        "tuple"
      ],
      "metadata": {
        "colab": {
          "base_uri": "https://localhost:8080/",
          "height": 158
        },
        "id": "M43PNuLQr5_Y",
        "outputId": "edd80930-016f-4098-ddd2-5f082ec0bbf4"
      },
      "execution_count": null,
      "outputs": [
        {
          "output_type": "error",
          "ename": "TypeError",
          "evalue": "'tuple' object does not support item assignment",
          "traceback": [
            "\u001b[0;31m---------------------------------------------------------------------------\u001b[0m",
            "\u001b[0;31mTypeError\u001b[0m                                 Traceback (most recent call last)",
            "\u001b[0;32m<ipython-input-37-798335609>\u001b[0m in \u001b[0;36m<cell line: 0>\u001b[0;34m()\u001b[0m\n\u001b[0;32m----> 1\u001b[0;31m \u001b[0mtuple\u001b[0m\u001b[0;34m[\u001b[0m\u001b[0;36m1\u001b[0m\u001b[0;34m]\u001b[0m\u001b[0;34m=\u001b[0m\u001b[0;34m'was'\u001b[0m\u001b[0;34m\u001b[0m\u001b[0;34m\u001b[0m\u001b[0m\n\u001b[0m\u001b[1;32m      2\u001b[0m \u001b[0mtuple\u001b[0m\u001b[0;34m\u001b[0m\u001b[0;34m\u001b[0m\u001b[0m\n",
            "\u001b[0;31mTypeError\u001b[0m: 'tuple' object does not support item assignment"
          ]
        }
      ]
    },
    {
      "cell_type": "code",
      "source": [
        "#7.Q Write a program that performs basic arithmatic opeation on two user input number.\n",
        "a=5\n",
        "b=10\n",
        "a+b"
      ],
      "metadata": {
        "colab": {
          "base_uri": "https://localhost:8080/"
        },
        "id": "NU6SluHgr56K",
        "outputId": "5b644c24-3ec8-4886-d7ee-eccea5673e2b"
      },
      "execution_count": null,
      "outputs": [
        {
          "output_type": "execute_result",
          "data": {
            "text/plain": [
              "15"
            ]
          },
          "metadata": {},
          "execution_count": 38
        }
      ]
    },
    {
      "cell_type": "code",
      "source": [
        "# arithmatic operation.\n",
        "a*b"
      ],
      "metadata": {
        "colab": {
          "base_uri": "https://localhost:8080/"
        },
        "id": "UEw-k9f2tb8M",
        "outputId": "b4c25ec0-3fae-4967-8d97-cf2b314945a2"
      },
      "execution_count": null,
      "outputs": [
        {
          "output_type": "execute_result",
          "data": {
            "text/plain": [
              "50"
            ]
          },
          "metadata": {},
          "execution_count": 39
        }
      ]
    },
    {
      "cell_type": "code",
      "source": [
        "# arithmatic operation.\n",
        "b/a"
      ],
      "metadata": {
        "colab": {
          "base_uri": "https://localhost:8080/"
        },
        "id": "VlXz0UMLtb4c",
        "outputId": "0bc36eaf-dcb8-43b9-81c4-82db3a8a8500"
      },
      "execution_count": null,
      "outputs": [
        {
          "output_type": "execute_result",
          "data": {
            "text/plain": [
              "2.0"
            ]
          },
          "metadata": {},
          "execution_count": 40
        }
      ]
    },
    {
      "cell_type": "code",
      "source": [
        "#8.Q. Write a program to demonstrate the use of logical operators.\n",
        "# and operator\n",
        "5 and 6"
      ],
      "metadata": {
        "colab": {
          "base_uri": "https://localhost:8080/"
        },
        "id": "cv0HCu5rtb05",
        "outputId": "afc7848c-e3d5-477b-91b9-10fe656b3170"
      },
      "execution_count": null,
      "outputs": [
        {
          "output_type": "execute_result",
          "data": {
            "text/plain": [
              "6"
            ]
          },
          "metadata": {},
          "execution_count": 41
        }
      ]
    },
    {
      "cell_type": "code",
      "source": [
        "#or operator\n",
        "18|3"
      ],
      "metadata": {
        "colab": {
          "base_uri": "https://localhost:8080/"
        },
        "id": "JDWZogMRtbvF",
        "outputId": "7e7d6795-e16a-43db-8e6f-684e942faa8a"
      },
      "execution_count": null,
      "outputs": [
        {
          "output_type": "execute_result",
          "data": {
            "text/plain": [
              "19"
            ]
          },
          "metadata": {},
          "execution_count": 44
        }
      ]
    },
    {
      "cell_type": "code",
      "source": [
        "#9. Q. Write a pytho program to covert user input from string to integer,float,and boolean type.\n",
        "a='5'\n",
        "type(a)"
      ],
      "metadata": {
        "id": "K_8adnpquj69",
        "colab": {
          "base_uri": "https://localhost:8080/"
        },
        "outputId": "287b1dd1-f24e-4e1e-f8e6-524e27955f5a"
      },
      "execution_count": null,
      "outputs": [
        {
          "output_type": "execute_result",
          "data": {
            "text/plain": [
              "str"
            ]
          },
          "metadata": {},
          "execution_count": 2
        }
      ]
    },
    {
      "cell_type": "code",
      "source": [
        "int(a) #here string convverted integer."
      ],
      "metadata": {
        "id": "hAOht3UZuj15",
        "colab": {
          "base_uri": "https://localhost:8080/"
        },
        "outputId": "6f22241e-4ff5-4043-a4ca-ba43cc457d36"
      },
      "execution_count": null,
      "outputs": [
        {
          "output_type": "execute_result",
          "data": {
            "text/plain": [
              "5"
            ]
          },
          "metadata": {},
          "execution_count": 3
        }
      ]
    },
    {
      "cell_type": "code",
      "source": [
        "float(a) #here string converted into float."
      ],
      "metadata": {
        "colab": {
          "base_uri": "https://localhost:8080/"
        },
        "id": "J6hvFCjAqyE1",
        "outputId": "8a3177d6-2192-4584-fc86-b0d56599d9c7"
      },
      "execution_count": null,
      "outputs": [
        {
          "output_type": "execute_result",
          "data": {
            "text/plain": [
              "5.0"
            ]
          },
          "metadata": {},
          "execution_count": 4
        }
      ]
    },
    {
      "cell_type": "code",
      "source": [
        "bool(a) #here string coverted into boolean value."
      ],
      "metadata": {
        "colab": {
          "base_uri": "https://localhost:8080/"
        },
        "id": "vJM1dVeJq9Sl",
        "outputId": "e51478f6-3396-4ed1-adc2-15188e6b0a9c"
      },
      "execution_count": null,
      "outputs": [
        {
          "output_type": "execute_result",
          "data": {
            "text/plain": [
              "True"
            ]
          },
          "metadata": {},
          "execution_count": 5
        }
      ]
    },
    {
      "cell_type": "code",
      "source": [
        "#10.Q. Write code to demonstrate type casting with list elements.\n",
        "a=[1,4,9,6,3]\n",
        "c=list(map(str,a))\n",
        "print(c)"
      ],
      "metadata": {
        "colab": {
          "base_uri": "https://localhost:8080/"
        },
        "id": "IG3kccowrMC2",
        "outputId": "d98189a7-33c3-44b8-ee53-b6fda897ac41"
      },
      "execution_count": null,
      "outputs": [
        {
          "output_type": "stream",
          "name": "stdout",
          "text": [
            "['1', '4', '9', '6', '3']\n"
          ]
        }
      ]
    },
    {
      "cell_type": "code",
      "source": [
        "#11.Q.Write a program that checks if a number is positive, negative or zero.\n",
        "num = float(input(\"input a number: \"))\n",
        "if num>=0:\n",
        "  print(\"positive number\")\n",
        "elif num==0:\n",
        "  print(\"zero\")\n",
        "else:\n",
        "  print(\"negative number\")"
      ],
      "metadata": {
        "colab": {
          "base_uri": "https://localhost:8080/"
        },
        "id": "0qslyn8FrL9q",
        "outputId": "54be4eeb-837f-49b0-a15a-ce7b574e8843"
      },
      "execution_count": null,
      "outputs": [
        {
          "output_type": "stream",
          "name": "stdout",
          "text": [
            "input a number: 2\n",
            "positive number\n"
          ]
        }
      ]
    },
    {
      "cell_type": "code",
      "source": [
        "#12.Q. write a for loop to print numbers from 1 to 10.\n",
        "a=[]\n",
        "for i in range(1, 11):\n",
        "  print(i)"
      ],
      "metadata": {
        "colab": {
          "base_uri": "https://localhost:8080/"
        },
        "id": "Aa-bt8fYrL48",
        "outputId": "e2e03878-3e71-41ab-ac8e-cc7159b09410"
      },
      "execution_count": null,
      "outputs": [
        {
          "output_type": "stream",
          "name": "stdout",
          "text": [
            "1\n",
            "2\n",
            "3\n",
            "4\n",
            "5\n",
            "6\n",
            "7\n",
            "8\n",
            "9\n",
            "10\n"
          ]
        }
      ]
    },
    {
      "cell_type": "code",
      "source": [
        "# 13.Q.Write a python program to find the sum of all even numbers between 1 to 50.\n"
      ],
      "metadata": {
        "id": "UvdhzjPjrLyN"
      },
      "execution_count": null,
      "outputs": []
    },
    {
      "cell_type": "code",
      "source": [
        "#14.Q. Write a program to reverse a string using while loop.\n",
        "list=[1,12,14,17,19,34]\n",
        "list[::-1]"
      ],
      "metadata": {
        "colab": {
          "base_uri": "https://localhost:8080/"
        },
        "id": "Ih2PmxrE2nOs",
        "outputId": "263aaa5e-b277-4bd2-8286-e009865f252b"
      },
      "execution_count": null,
      "outputs": [
        {
          "output_type": "execute_result",
          "data": {
            "text/plain": [
              "[34, 19, 17, 14, 12, 1]"
            ]
          },
          "metadata": {},
          "execution_count": 54
        }
      ]
    },
    {
      "cell_type": "code",
      "source": [
        "#15.Q. Write a python program to calculate the factorial of a number provided by the user using a while loop.\n",
        "n=int(input(\"enter a num : \"))\n",
        "\n",
        "product = 1\n",
        "while n > 1:\n",
        "  product = product * n\n",
        "  n = n-1\n",
        "\n",
        "  print(f\"factorial is : {product}\")"
      ],
      "metadata": {
        "colab": {
          "base_uri": "https://localhost:8080/"
        },
        "id": "QjV2NLrpAB2u",
        "outputId": "7a6e42ea-2407-4e79-b2c3-0083125c5ded"
      },
      "execution_count": null,
      "outputs": [
        {
          "output_type": "stream",
          "name": "stdout",
          "text": [
            "enter a num : 5\n",
            "factorial is : 5\n",
            "factorial is : 20\n",
            "factorial is : 60\n",
            "factorial is : 120\n"
          ]
        }
      ]
    }
  ]
}